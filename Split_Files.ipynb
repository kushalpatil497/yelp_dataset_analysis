{
 "cells": [
  {
   "cell_type": "code",
   "execution_count": 23,
   "id": "1c2aa4d6-4500-4466-9c0e-4918614248fb",
   "metadata": {},
   "outputs": [
    {
     "name": "stdout",
     "output_type": "stream",
     "text": [
      "Total lines: 6990280, Lines per file: 699028, and remaining lines: 0\n",
      "✅ JSON file 1/10 written: Z_Split_file_1.json\n",
      "✅ JSON file 2/10 written: Z_Split_file_2.json\n",
      "✅ JSON file 3/10 written: Z_Split_file_3.json\n"
     ]
    },
    {
     "ename": "KeyboardInterrupt",
     "evalue": "",
     "output_type": "error",
     "traceback": [
      "\u001b[1;31m---------------------------------------------------------------------------\u001b[0m",
      "\u001b[1;31mKeyboardInterrupt\u001b[0m                         Traceback (most recent call last)",
      "Cell \u001b[1;32mIn[23], line 20\u001b[0m\n\u001b[0;32m     18\u001b[0m \u001b[38;5;28;01mwith\u001b[39;00m \u001b[38;5;28mopen\u001b[39m(out_file, \u001b[38;5;124m\"\u001b[39m\u001b[38;5;124mw\u001b[39m\u001b[38;5;124m\"\u001b[39m, encoding \u001b[38;5;241m=\u001b[39m \u001b[38;5;124m\"\u001b[39m\u001b[38;5;124mutf8\u001b[39m\u001b[38;5;124m\"\u001b[39m) \u001b[38;5;28;01mas\u001b[39;00m of:\n\u001b[0;32m     19\u001b[0m     \u001b[38;5;28;01mfor\u001b[39;00m j \u001b[38;5;129;01min\u001b[39;00m \u001b[38;5;28mrange\u001b[39m(current_lines):\n\u001b[1;32m---> 20\u001b[0m         line \u001b[38;5;241m=\u001b[39m f\u001b[38;5;241m.\u001b[39mreadline()\n\u001b[0;32m     21\u001b[0m         \u001b[38;5;28;01mif\u001b[39;00m \u001b[38;5;129;01mnot\u001b[39;00m line:\n\u001b[0;32m     22\u001b[0m             \u001b[38;5;28;01mbreak\u001b[39;00m\n",
      "File \u001b[1;32m<frozen codecs>:319\u001b[0m, in \u001b[0;36mdecode\u001b[1;34m(self, input, final)\u001b[0m\n",
      "\u001b[1;31mKeyboardInterrupt\u001b[0m: "
     ]
    }
   ],
   "source": [
    "import json\n",
    "input_file = 'dataset/yelp_academic_dataset_review.json' #JSON file of 5GB size.\n",
    "output_prefix = 'Split_file_'\n",
    "splits = 10 #Splitting the file into 'splits' splits.\n",
    "\n",
    "with open(input_file, \"r\", encoding=\"utf8\") as f:\n",
    "    total_lines = sum(1 for _ in f)\n",
    "\n",
    "lines_per_file, rem = divmod(total_lines, splits)\n",
    "\n",
    "print(f\"Total lines: {total_lines}, Lines per file: {lines_per_file}, and remaining lines: {rem}\")\n",
    "\n",
    "with open(input_file, \"r\", encoding=\"utf8\") as f:\n",
    "    for i in range(splits):\n",
    "        current_lines = lines_per_file + (1 if i < rem else 0)\n",
    "        out_file = f'{output_prefix}{i+1}.json'\n",
    "        \n",
    "        with open(out_file, \"w\", encoding = \"utf8\") as of:\n",
    "            for j in range(current_lines):\n",
    "                line = f.readline()\n",
    "                if not line:\n",
    "                    break\n",
    "                of.write(line)\n",
    "        print(f\"✅ JSON file {i+1}/{splits} written: {out_file}\")\n",
    "\n",
    "print(\"✅ JSON file successfully split into smaller parts!\")"
   ]
  },
  {
   "cell_type": "code",
   "execution_count": null,
   "id": "9fe6a4c9-419a-4dcb-bbbe-253c5c268026",
   "metadata": {},
   "outputs": [],
   "source": []
  }
 ],
 "metadata": {
  "kernelspec": {
   "display_name": "Python [conda env:base] *",
   "language": "python",
   "name": "conda-base-py"
  },
  "language_info": {
   "codemirror_mode": {
    "name": "ipython",
    "version": 3
   },
   "file_extension": ".py",
   "mimetype": "text/x-python",
   "name": "python",
   "nbconvert_exporter": "python",
   "pygments_lexer": "ipython3",
   "version": "3.12.7"
  }
 },
 "nbformat": 4,
 "nbformat_minor": 5
}
